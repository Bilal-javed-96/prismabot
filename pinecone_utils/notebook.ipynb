{
 "cells": [
  {
   "cell_type": "code",
   "execution_count": 4,
   "metadata": {},
   "outputs": [
    {
     "name": "stderr",
     "output_type": "stream",
     "text": [
      "Fetching pages: 0it [00:00, ?it/s]\n"
     ]
    }
   ],
   "source": [
    "from langchain.document_loaders import SitemapLoader\n",
    "\n",
    "import bs4\n",
    "from bs4 import BeautifulSoup\n",
    "# fixes a bug with asyncio and jupyter\n",
    "import nest_asyncio\n",
    "\n",
    "nest_asyncio.apply()\n",
    "\n",
    "def docs_extractor(soup: BeautifulSoup) -> str:\n",
    "    # Find and extract <h1> content\n",
    "    h1_tag = soup.find('h1', class_='article-title')\n",
    "    h1_content = h1_tag.text.strip() if h1_tag else \"No <h1> found\"\n",
    "    # Find main content section\n",
    "    section_tag = soup.find('section', class_='gh-content')\n",
    "    final_content = \"\"\n",
    "    for el in section_tag:\n",
    "        if isinstance(el, bs4.element.Tag):\n",
    "            tag = el.name\n",
    "            if tag == \"h1\":\n",
    "                final_content += f\"# {el.text}\\n\"\n",
    "            elif tag == \"h2\":\n",
    "                final_content += f\"## {el.text}\\n\"\n",
    "            elif tag == \"h3\":\n",
    "                final_content += f\"### {el.text}\\n\"\n",
    "            elif tag == \"h4\":\n",
    "                final_content += f\"#### {el.text}\\n\"\n",
    "            elif tag == \"h5\":\n",
    "                final_content += f\"##### {el.text}\\n\"\n",
    "            elif tag == \"h6\":\n",
    "                final_content += f\"###### {el.text}\\n\"\n",
    "            elif tag == \"p\":\n",
    "                final_content += f\"{el.text}\\n\"\n",
    "            elif tag == \"ul\":\n",
    "                final_content += \"- \" + \\\n",
    "                    \"\\n- \".join(li.text for li in el.find_all('li')) + \"\\n\"\n",
    "            elif tag == 'b':\n",
    "                final_content += f\"**{el.text}**\"\n",
    "            elif tag == 'i':\n",
    "                final_content += f\"*{el.text}*\"\n",
    "            elif tag == 'pre' or tag == 'code':\n",
    "                final_content += f\"{el.text}\\n\"\n",
    "            # Handle tables\n",
    "            elif tag == 'table':\n",
    "                table_content = \"\"\n",
    "                for row in el.find_all('tr'):\n",
    "                    row_content = \"\"\n",
    "                    for cell in row.find_all(['td', 'th']):\n",
    "                        row_content += cell.text + \" | \"\n",
    "                    table_content += row_content + \"\\n\"\n",
    "                final_content += f\"{table_content}\\n\"\n",
    "\n",
    "            # Handle links\n",
    "            elif tag == 'a':\n",
    "                link_text = el.text\n",
    "                link_url = el['href']\n",
    "                final_content += f\"[{link_text}]({link_url})\"\n",
    "\n",
    "    final_content = f\"# {h1_content}\\n\\n{final_content}\"\n",
    "    return final_content.strip()\n",
    "\n",
    "\n",
    "docs = SitemapLoader(\n",
    "    \"https://main--prisma-cloud-docs--hlxsites.hlx.live/docs/sitemaps/sitemap-en-0.xml\",\n",
    "    # filter_urls=['https://docs.prismacloud.io/en/enterprise-edition'],\n",
    "    # parsing_function=docs_extractor,\n",
    ").load()"
   ]
  },
  {
   "cell_type": "code",
   "execution_count": 5,
   "metadata": {},
   "outputs": [
    {
     "data": {
      "text/plain": [
       "[]"
      ]
     },
     "execution_count": 5,
     "metadata": {},
     "output_type": "execute_result"
    }
   ],
   "source": [
    "docs"
   ]
  },
  {
   "cell_type": "code",
   "execution_count": null,
   "metadata": {},
   "outputs": [],
   "source": [
    "import xml.etree.ElementTree as ET\n",
    "\n",
    "# Load the sitemap.xml file\n",
    "sitemap_path = \"sitemap-en-0.xml\"  # Replace with the path to your sitemap.xml file\n",
    "tree = ET.parse(sitemap_path)\n",
    "root = tree.getroot()\n",
    "\n",
    "# Define your base criteria\n",
    "base_criteria = \"https://docs.prismacloud.io/en/enterprise-edition\"  # Replace with your base criteria\n",
    "\n",
    "# Extract URLs that match the base criteria\n",
    "matching_urls = []\n",
    "\n",
    "for url in root.iter('{http://www.sitemaps.org/schemas/sitemap/0.9}loc'):\n",
    "    if url.text.startswith(base_criteria):\n",
    "        matching_urls.append(url.text)\n",
    "\n",
    "# Print the matching URLs\n",
    "for url in matching_urls:\n",
    "    print(url)\n"
   ]
  },
  {
   "cell_type": "code",
   "execution_count": 7,
   "metadata": {},
   "outputs": [
    {
     "data": {
      "text/plain": [
       "1739"
      ]
     },
     "execution_count": 7,
     "metadata": {},
     "output_type": "execute_result"
    }
   ],
   "source": [
    "len(matching_urls)"
   ]
  },
  {
   "cell_type": "code",
   "execution_count": 9,
   "metadata": {},
   "outputs": [],
   "source": [
    "with open(\"urls_to_be_scraped.txt\",'w') as f:\n",
    "    f.write(\"\\n\".join(matching_urls))"
   ]
  },
  {
   "cell_type": "code",
   "execution_count": 20,
   "metadata": {},
   "outputs": [
    {
     "name": "stdout",
     "output_type": "stream",
     "text": [
      "<!DOCTYPE html>\n",
      "\n",
      "<html>\n",
      "<head>\n",
      "<title>Metadata</title>\n",
      "<link href=\"https://docs.prismacloud.io/en/enterprise-edition/use-cases/secure-the-infrastructure/discover-sensitive-data-in-datastores\" rel=\"canonical\"/>\n",
      "<meta content=\"Metadata\" property=\"og:title\"/>\n",
      "<meta content=\"https://docs.prismacloud.io/en/enterprise-edition/use-cases/secure-the-infrastructure/discover-sensitive-data-in-datastores\" property=\"og:url\"/>\n",
      "<meta content=\"https://docs.prismacloud.io/default-meta-image.png?width=1200&amp;format=pjpg&amp;optimize=medium\" property=\"og:image\"/>\n",
      "<meta content=\"https://docs.prismacloud.io/default-meta-image.png?width=1200&amp;format=pjpg&amp;optimize=medium\" property=\"og:image:secure_url\"/>\n",
      "<meta content=\"summary_large_image\" name=\"twitter:card\"/>\n",
      "<meta content=\"Metadata\" name=\"twitter:title\"/>\n",
      "<meta content=\"https://docs.prismacloud.io/default-meta-image.png?width=1200&amp;format=pjpg&amp;optimize=medium\" name=\"twitter:image\"/>\n",
      "<meta content=\"enterprise-edition\" name=\"product\"/>\n",
      "<meta content=\"en\" name=\"language\"/>\n",
      "<meta content=\"English\" name=\"language-title\"/>\n",
      "<meta content=\"true\" name=\"is-latest-version\"/>\n",
      "<meta content=\"Enterprise Edition\" name=\"os-version\"/>\n",
      "<meta content=\"/docs/en/enterprise-edition/use-cases\" name=\"book\"/>\n",
      "<meta content=\"/docs/en/enterprise-edition/use-cases;Use Cases;;/docs/en/enterprise-edition/content-collections;Content Collections;;/docs/en/enterprise-edition/policy-reference;Prisma Cloud Application Security Policy Reference;;/docs/en/enterprise-edition/rn;Prisma Cloud Release Notes\" name=\"all-books\"/>\n",
      "<meta content=\"Use Cases\" name=\"book-name\"/>\n",
      "<meta content=\"50f6a03f40793d69545a4286255f64d4\" name=\"docset-id\"/>\n",
      "<meta content=\"Enterprise Edition\" name=\"docset-title\"/>\n",
      "<meta content=\"book\" name=\"template\"/>\n",
      "<meta content=\"width=device-width, initial-scale=1\" name=\"viewport\"/>\n",
      "<script src=\"/scripts/lib-franklin.js\" type=\"module\"></script>\n",
      "<script src=\"/scripts/scripts.js\" type=\"module\"></script>\n",
      "<link href=\"/styles/styles.css\" rel=\"stylesheet\"/>\n",
      "<link href=\"data:,\" rel=\"icon\"/>\n",
      "</head>\n",
      "<body>\n",
      "<header></header>\n",
      "<main>\n",
      "<div></div>\n",
      "</main>\n",
      "<footer></footer>\n",
      "</body>\n",
      "</html>\n",
      "\n"
     ]
    }
   ],
   "source": [
    "import requests\n",
    "from bs4 import BeautifulSoup\n",
    "\n",
    "def docs_extractor(soup: BeautifulSoup) -> str:\n",
    "    # Find and extract all h1 headings on the page\n",
    "    h1_headings = soup.find_all('h2')\n",
    "    \n",
    "    if h1_headings:\n",
    "        for h1 in h1_headings:\n",
    "            h1_content = h1.text.strip()\n",
    "            print(f\"H1 Heading: {h1_content}\")\n",
    "    else:\n",
    "        print(\"No H1 headings found\")\n",
    "    # Find and extract <h1> content\n",
    "    # h1_tag = soup.find('h1', class_='title')\n",
    "\n",
    "    # h1_content = h1_tag.text.strip() if h1_tag else \"No <h1> found\"\n",
    "    # return h1_content\n",
    "    # # Find main content section\n",
    "    # section_tag = soup.find('section', class_='gh-content')\n",
    "    # final_content = \"\"\n",
    "    # for el in section_tag:\n",
    "    #     if isinstance(el, bs4.element.Tag):\n",
    "    #         tag = el.name\n",
    "    #         if tag == \"h1\":\n",
    "    #             final_content += f\"# {el.text}\\n\"\n",
    "    #         elif tag == \"h2\":\n",
    "    #             final_content += f\"## {el.text}\\n\"\n",
    "    #         elif tag == \"h3\":\n",
    "    #             final_content += f\"### {el.text}\\n\"\n",
    "    #         elif tag == \"h4\":\n",
    "    #             final_content += f\"#### {el.text}\\n\"\n",
    "    #         elif tag == \"h5\":\n",
    "    #             final_content += f\"##### {el.text}\\n\"\n",
    "    #         elif tag == \"h6\":\n",
    "    #             final_content += f\"###### {el.text}\\n\"\n",
    "    #         elif tag == \"p\":\n",
    "    #             final_content += f\"{el.text}\\n\"\n",
    "    #         elif tag == \"ul\":\n",
    "    #             final_content += \"- \" + \\\n",
    "    #                 \"\\n- \".join(li.text for li in el.find_all('li')) + \"\\n\"\n",
    "    #         elif tag == 'b':\n",
    "    #             final_content += f\"**{el.text}**\"\n",
    "    #         elif tag == 'i':\n",
    "    #             final_content += f\"*{el.text}*\"\n",
    "    #         elif tag == 'pre' or tag == 'code':\n",
    "    #             final_content += f\"{el.text}\\n\"\n",
    "    #         # Handle tables\n",
    "    #         elif tag == 'table':\n",
    "    #             table_content = \"\"\n",
    "    #             for row in el.find_all('tr'):\n",
    "    #                 row_content = \"\"\n",
    "    #                 for cell in row.find_all(['td', 'th']):\n",
    "    #                     row_content += cell.text + \" | \"\n",
    "    #                 table_content += row_content + \"\\n\"\n",
    "    #             final_content += f\"{table_content}\\n\"\n",
    "\n",
    "    #         # Handle links\n",
    "    #         elif tag == 'a':\n",
    "    #             link_text = el.text\n",
    "    #             link_url = el['href']\n",
    "    #             final_content += f\"[{link_text}]({link_url})\"\n",
    "\n",
    "    # final_content = f\"# {h1_content}\\n\\n{final_content}\"\n",
    "    # return final_content.strip()\n",
    "\n",
    "# Replace the URL below with the link to the page you want to scrape\n",
    "url = \"https://docs.prismacloud.io/en/enterprise-edition/use-cases/secure-the-infrastructure/discover-sensitive-data-in-datastores\"\n",
    "response = requests.get(url)\n",
    "\n",
    "if response.status_code == 200:\n",
    "    soup = BeautifulSoup(response.content, \"html.parser\")\n",
    "    print(soup)\n",
    "    # extracted_content = docs_extractor(soup)\n",
    "    # Print or save the extracted content\n",
    "    # print(extracted_content)\n",
    "else:\n",
    "    print(f\"Failed to retrieve the page. Status code: {response.status_code}\")\n"
   ]
  },
  {
   "cell_type": "code",
   "execution_count": 21,
   "metadata": {},
   "outputs": [],
   "source": [
    "url=\"https://docs.prismacloud.io/en/enterprise-edition/use-cases/secure-the-infrastructure/tailor-prisma-cloud-to-match-your-security-needs\"\n",
    "try:\n",
    "    response = requests.get(url)\n",
    "    response.raise_for_status()  # Check for HTTP request errors\n",
    "    html_content = response.text\n",
    "    soup = BeautifulSoup(html_content, \"html.parser\")\n",
    "    \n",
    "    # Extract and print the data here\n",
    "except requests.exceptions.RequestException as e:\n",
    "    print(\"Request error:\", e)\n",
    "except Exception as e:\n",
    "    print(\"Error:\", e)\n"
   ]
  },
  {
   "cell_type": "code",
   "execution_count": 22,
   "metadata": {},
   "outputs": [
    {
     "data": {
      "text/plain": [
       "<!DOCTYPE html>\n",
       "\n",
       "<html>\n",
       "<head>\n",
       "<title>Metadata</title>\n",
       "<link href=\"https://docs.prismacloud.io/en/enterprise-edition/use-cases/secure-the-infrastructure/tailor-prisma-cloud-to-match-your-security-needs\" rel=\"canonical\"/>\n",
       "<meta content=\"Metadata\" property=\"og:title\"/>\n",
       "<meta content=\"https://docs.prismacloud.io/en/enterprise-edition/use-cases/secure-the-infrastructure/tailor-prisma-cloud-to-match-your-security-needs\" property=\"og:url\"/>\n",
       "<meta content=\"https://docs.prismacloud.io/default-meta-image.png?width=1200&amp;format=pjpg&amp;optimize=medium\" property=\"og:image\"/>\n",
       "<meta content=\"https://docs.prismacloud.io/default-meta-image.png?width=1200&amp;format=pjpg&amp;optimize=medium\" property=\"og:image:secure_url\"/>\n",
       "<meta content=\"summary_large_image\" name=\"twitter:card\"/>\n",
       "<meta content=\"Metadata\" name=\"twitter:title\"/>\n",
       "<meta content=\"https://docs.prismacloud.io/default-meta-image.png?width=1200&amp;format=pjpg&amp;optimize=medium\" name=\"twitter:image\"/>\n",
       "<meta content=\"enterprise-edition\" name=\"product\"/>\n",
       "<meta content=\"en\" name=\"language\"/>\n",
       "<meta content=\"English\" name=\"language-title\"/>\n",
       "<meta content=\"true\" name=\"is-latest-version\"/>\n",
       "<meta content=\"Enterprise Edition\" name=\"os-version\"/>\n",
       "<meta content=\"/docs/en/enterprise-edition/use-cases\" name=\"book\"/>\n",
       "<meta content=\"/docs/en/enterprise-edition/use-cases;Use Cases;;/docs/en/enterprise-edition/content-collections;Content Collections;;/docs/en/enterprise-edition/policy-reference;Prisma Cloud Application Security Policy Reference;;/docs/en/enterprise-edition/rn;Prisma Cloud Release Notes\" name=\"all-books\"/>\n",
       "<meta content=\"Use Cases\" name=\"book-name\"/>\n",
       "<meta content=\"50f6a03f40793d69545a4286255f64d4\" name=\"docset-id\"/>\n",
       "<meta content=\"Enterprise Edition\" name=\"docset-title\"/>\n",
       "<meta content=\"book\" name=\"template\"/>\n",
       "<meta content=\"width=device-width, initial-scale=1\" name=\"viewport\"/>\n",
       "<script src=\"/scripts/lib-franklin.js\" type=\"module\"></script>\n",
       "<script src=\"/scripts/scripts.js\" type=\"module\"></script>\n",
       "<link href=\"/styles/styles.css\" rel=\"stylesheet\"/>\n",
       "<link href=\"data:,\" rel=\"icon\"/>\n",
       "</head>\n",
       "<body>\n",
       "<header></header>\n",
       "<main>\n",
       "<div></div>\n",
       "</main>\n",
       "<footer></footer>\n",
       "</body>\n",
       "</html>"
      ]
     },
     "execution_count": 22,
     "metadata": {},
     "output_type": "execute_result"
    }
   ],
   "source": [
    "soup"
   ]
  },
  {
   "cell_type": "code",
   "execution_count": null,
   "metadata": {},
   "outputs": [],
   "source": [
    "from selenium import webdriver\n",
    "\n",
    "# Create a new instance of the Chrome driver (you can use Firefox, etc.)\n",
    "driver = webdriver.Chrome()\n",
    "\n",
    "# Load the web page\n",
    "driver.get(\"your_page_url_here\")\n",
    "\n",
    "# Wait for some time (optional) to ensure JavaScript content is loaded\n",
    "# You may need to customize the wait time based on the page's loading behavior\n",
    "driver.implicitly_wait(10)\n",
    "\n",
    "# Get the page source, which includes the dynamic content\n",
    "page_source = driver.page_source\n",
    "\n",
    "# Now you can parse the page_source using Beautiful Soup as before\n",
    "soup = BeautifulSoup(page_source, \"html.parser\")\n",
    "\n",
    "# Extract specific elements from the HTML\n",
    "title = soup.find(\"title\").text\n",
    "\n",
    "# Close the Selenium driver\n",
    "driver.quit()\n",
    "\n",
    "# Print the extracted information\n",
    "print(\"Title:\", title)\n"
   ]
  },
  {
   "cell_type": "code",
   "execution_count": 12,
   "metadata": {},
   "outputs": [],
   "source": [
    "from langchain.document_loaders import DirectoryLoader\n",
    "from langchain.document_loaders import TextLoader"
   ]
  },
  {
   "cell_type": "code",
   "execution_count": 13,
   "metadata": {},
   "outputs": [],
   "source": [
    "text_loader_kwargs={'autodetect_encoding': True}\n",
    "loader = DirectoryLoader('hlxsites prisma-cloud-docs main docs-en_enterprise-edition', glob=\"**/*.adoc\", loader_cls=TextLoader, use_multithreading=True, show_progress=True,loader_kwargs=text_loader_kwargs)"
   ]
  },
  {
   "cell_type": "code",
   "execution_count": 14,
   "metadata": {},
   "outputs": [
    {
     "name": "stderr",
     "output_type": "stream",
     "text": [
      "100%|██████████| 1874/1874 [00:00<00:00, 2472.38it/s]\n"
     ]
    }
   ],
   "source": [
    "docs = loader.load()"
   ]
  },
  {
   "cell_type": "code",
   "execution_count": 15,
   "metadata": {},
   "outputs": [
    {
     "data": {
      "text/plain": [
       "1834"
      ]
     },
     "execution_count": 15,
     "metadata": {},
     "output_type": "execute_result"
    }
   ],
   "source": [
    "len(docs)"
   ]
  },
  {
   "cell_type": "code",
   "execution_count": 16,
   "metadata": {},
   "outputs": [
    {
     "data": {
      "text/plain": [
       "Document(page_content='[#id0d4b823b-0b56-4562-9014-a03a0b12e67f]\\n== Add a Resource List on Prisma Cloud\\n\\nUse tags to identify resources deployed in your cloud environments.\\n\\nA Resource List is a way to identify resources that are assigned with a specific tag or label. Resource lists can include tags or types of workloads.\\n\\n* xref:#id334bfb12-8cbe-460e-8698-fc4994e61b69[Identify Cloud Resources by Tags]\\n* xref:#idd0ab9614-5daa-40b4-91cd-9bee6f70f2e6[Create a Resource List for Compute Resources]\\n* xref:#id814aa2ea-b823-4727-93ea-010ccf9edd44[Create a Resource List for Azure Resource Groups]\\n\\n\\n[.task]\\n[#id334bfb12-8cbe-460e-8698-fc4994e61b69]\\n=== Identify Cloud Resources by Tags\\n\\nA resource list for tags can reference tags that have been assigned to the resource as a part of a template deployment workflow or added manually. After you create the list to identify resources based on assigned tags, to use this list for scanning IaC templates using the Prisma Cloud plugins, you need to attach the resource list to a Prisma Cloud role and to an alert rule for build-time checks.\\n\\n[.procedure]\\n. Select *Settings > Resource Lists*.\\n\\n. *Add Resource List > Tag*.\\n\\n. Enter a *Resource List Name*.\\n+\\nYou can optionally enter a description.\\n\\n. Specify the *Key* and *Value* to identify the tag.\\n+\\nYou can add up to 20 key-value pairs in a resource list. When you specify multiple tags in a resource list, the IaC template must include at least one tag defined in the resource list to be scanned against the policies in the alert rule. The tag needs to be in format userinput:[tag_key:tag_value].\\n\\n. *Save* the list.\\n\\n. Attach the resource list to a Prisma Cloud role.\\n+\\nWhen you xref:create-prisma-cloud-roles.adoc[create Prisma Cloud Roles], users who are associated with the selected role can review the scan results.\\n\\n\\n[.task]\\n[#idd0ab9614-5daa-40b4-91cd-9bee6f70f2e6]\\n=== Create a Resource List for Compute Resources\\n\\nThe Compute Access Group resource list on Prisma Cloud enables you to:\\n\\n* Restrict access to the data that is visible under *Runtime Security* to your read-only roles.\\n+\\nYou can define the scope for the types of workloads or resources, such as hosts, containers, images, serverless functions that are accessible to a role and assign that role to a Prisma Cloud read-only role. For a user to view data, they must be assigned to an account group or an on-prem provider. The workloads you include in the list match criteria are within scope and accessible to the user who is assigned to the role.\\n+\\nOn Compute, this resource list is referred to as an assigned collection and is a way to enable granular access to a specified set of resources instead of granting access to all resources within an account.\\n\\n* Target *Compute* workloadsâ€”hosts and container imagesâ€”for which you want to trigger alerts using an alert rule with xref:../governance/workload-protection-policies.adoc[workload protection policies].\\n\\n\\n[.procedure]\\n. Select *Settings > Resource Lists*.\\n\\n. *Add Resource List > Compute Access Group*.\\n\\n. Enter a *Resource List Name*.\\n+\\nYou can optionally enter a description.\\n\\n. Specify the filters to define the scope of what is accessible within each type of resource.\\n+\\nBy default, each field is populated with a wildcard to match all objects of a specific type, such as containers, images, hosts. The Individual fields are combined using AND logic. You can customize how a field is evaluated with string matching. When you use a wildcard in a resource name, it evaluates the resource name according to the position of the wildcardâ€”If the string starts with a wildcard, it is evaluated as string-starts-with; If the string terminates with a wildcard, it is evaluated as string-ends-with; If a string is starts and terminates with a wildcard, it is evaluated as string-contains.\\n+\\nAs an example, to match host names that start with production and image names that use the latest version of Ubuntu, and disregard the container name or label, you must enter the value userinput:[production{asterisk}] for *Hosts* and userinput:[{asterisk}/ubuntu:latest] for *Images* to match image names /library/ubuntu:latest or docker.io/library/ubuntu:latest. For more examples, refer to https://docs.paloaltonetworks.com/prisma/prisma-cloud/prisma-cloud-admin-compute/configure/rule_ordering_pattern_matching.html[pattern matching].\\n+\\nimage::administration/resource-list-cag.png[]\\n\\n. *Save* the list.\\n\\n. View this resource list on *Compute*.\\n+\\nThe resource list is automatically added to the list of Collections. Select menu:Manage[Collections And Tags > Collections] and find the resource list by name. Although the Resource List for Compute Access Group is included in the list of collections, you cannot edit it on the *Compute* tab or use it when you add or edit rules for enforcing security checks on your resources.\\n\\n. Attach the resource list.\\n+\\nYou can now attach the Compute Access Group Resource list to a Prisma Cloud role or to an alert rule.\\n+\\n.. When you xref:create-prisma-cloud-roles.adoc#id6d0b3093-c30c-41c4-8757-2efbdf7970c8[Create Prisma Cloud Roles] and attach the resource list to the role, verify that the role is assigned at least one account group or is enabled for access to data from *On-prem/ Other cloud providers*.\\n\\n.. Assign the role to a user so that they can review data on *Compute* for the scope you defined in the resource list.\\n\\n\\n[.task]\\n[#id814aa2ea-b823-4727-93ea-010ccf9edd44]\\n=== Create a Resource List for Azure Resource Groups\\n\\nCreate resource lists for Azure Resource Groups and assign it to roles to restrict access. Then, filter these in the Alerts, Compliance, and Asset inventory dashboards.\\n\\nThe Azure Resource Group resource list enables you to specify roles on Prisma Cloud who can view the data associated with it. This enables you to restrict access to the data and also provides you greater visibility by allowing you to zoom in on that data using filters. You can filter Azure Resource Groups to generate compliance standard reports which shows only the data within them, or you can apply filters in the Asset inventory dashboard to pick and choose one-or-more Azure Resource Groups data that you want to observe. You can also filter based on Azure Resource Groups on the Alerts Overview, Alerts Reports, and Investigate pages.\\n\\nContact Prisma Cloud customer support to enable Azure Resource Group resource lists on your Prisma Cloud tenant.\\n\\n[.procedure]\\n. Select *Settings > Resource Lists*.\\n\\n. *Add Resource List > Azure Resource Group*.\\n+\\nOnly System Admins can create Resource Groups.\\n\\n. Enter the resource list details.\\n+\\n* *Name*â€”Enter the name of your resource list.\\n* *tt:[Description]*â€”Enter the purpose of your resource list.\\n* *Azure Resource Group(s)*â€”Click the dialog box and select the Azure Resource Groups that you want to add to the resource list.\\n\\n. Click *Submit*.\\n\\n. tt:[(Optional)] Attach the resource list to a Prisma Cloud role.\\n+\\nWhen you assign an Azure Resource Group Resource List to a role, that role will have access to azure resource groups in the resource list for the Compliance and Asset inventory dashboards. If no resource list is assigned to a role that you switch to, then no resource list data will display in the corresponding dashboards.\\n+\\nThis is currently only applicable to Azure resources. If you have access to AWS, GCP, and Azure resources, the resource list filtering will only apply to the Azure resources, however you will still have access to the AWS and GCP data.\\n\\n. Filter the resource list to view data on the Compliance and Asset Inventory dashboards.\\n\\n.. Apply a filter on the Compliance dashboard.\\n+\\n* Select menu:Compliance[Overview] and click the plus icon (image:filter-plus-icon.png) to view and add filter menu items.\\n* Select *Azure Resource Group* to view the resource list data associated with your role.\\n+\\nimage::administration/compliance-azure-resource-group-1.png[]\\n\\n. Apply a filter on the Asset inventory dashboard.\\n+\\n* Select menu:Inventory[Assets] and click the plus icon to view and add filter menu items.\\n* Select *Azure Resource Group* to view the resource list data associated with your role.\\n+\\nimage::administration/asset-inventory-azure-resource-group-2.png[]\\n+\\nThe Azure resources you see on the Asset Inventory page belong to the resource lists that are attached to your role. If you have access to accounts belonging to other cloud types, such as AWS or GCP, those resources are not filtered and you will see all the data associated with those cloud types.\\n\\n. Apply a filter on the *Investigate* page.\\n+\\n* Select *Investigate*.\\n* Enter your config query in the search bar: screen:[config from cloud.resource where azure.resource.group = ]The resource group is not auto-suggested because the list of resource groups can be very long. You have to manually enter the resource group.\\n* You can also filter based multiple resource groups: screen:[config from cloud.resource where azure.resource.group IN (â€™resource-group1â€™) AND (â€™resource-group2â€™)]', metadata={'source': 'hlxsites prisma-cloud-docs main docs-en_enterprise-edition\\\\content-collections\\\\administration\\\\add-a-resource-list-on-prisma-cloud.adoc'})"
      ]
     },
     "execution_count": 16,
     "metadata": {},
     "output_type": "execute_result"
    }
   ],
   "source": [
    "docs[0]"
   ]
  },
  {
   "cell_type": "code",
   "execution_count": 6,
   "metadata": {},
   "outputs": [
    {
     "name": "stderr",
     "output_type": "stream",
     "text": [
      "100%|██████████| 1874/1874 [00:00<00:00, 1939.12it/s]\n"
     ]
    }
   ],
   "source": [
    "from langchain.document_loaders import DirectoryLoader\n",
    "from langchain.document_loaders import TextLoader\n",
    "from langchain.text_splitter import RecursiveCharacterTextSplitter\n",
    "from langchain.vectorstores.pinecone import Pinecone\n",
    "from langchain.embeddings.openai import OpenAIEmbeddings\n",
    "import pinecone\n",
    "from dotenv import load_dotenv\n",
    "import os\n",
    "load_dotenv()\n",
    "\n",
    "pinecone.init(api_key=os.getenv(\"PINECONE_API_KEY\"),environment=os.getenv(\"PINECONE_ENVIRONMENT\"))\n",
    "\n",
    "text_loader_kwargs={'autodetect_encoding': True}\n",
    "loader = DirectoryLoader('E:\\\\DESKTOP\\\\FreeLanceProjects\\\\powlosmillion\\\\hlxsites prisma-cloud-docs main docs-en_enterprise-edition', glob=\"**/*.adoc\", loader_cls=TextLoader, use_multithreading=True, show_progress=True,loader_kwargs=text_loader_kwargs)\n",
    "\n",
    "raw_docs = loader.load()\n",
    "\n"
   ]
  },
  {
   "cell_type": "code",
   "execution_count": 7,
   "metadata": {},
   "outputs": [],
   "source": [
    "text_splitter = RecursiveCharacterTextSplitter(\n",
    "    # Set a really small chunk size, just to show.\n",
    "    chunk_size = 1300,\n",
    "    chunk_overlap  = 50,\n",
    "    length_function = len,\n",
    "    is_separator_regex = False,\n",
    ")\n",
    "\n",
    "new_docs = text_splitter.split_documents(raw_docs)"
   ]
  },
  {
   "cell_type": "code",
   "execution_count": 8,
   "metadata": {},
   "outputs": [
    {
     "data": {
      "text/plain": [
       "5448"
      ]
     },
     "execution_count": 8,
     "metadata": {},
     "output_type": "execute_result"
    }
   ],
   "source": [
    "len(new_docs)"
   ]
  },
  {
   "cell_type": "code",
   "execution_count": 9,
   "metadata": {},
   "outputs": [
    {
     "data": {
      "text/plain": [
       "'[#id0d4b823b-0b56-4562-9014-a03a0b12e67f]\\n== Add a Resource List on Prisma Cloud\\n\\nUse tags to identify resources deployed in your cloud environments.\\n\\nA Resource List is a way to identify resources that are assigned with a specific tag or label. Resource lists can include tags or types of workloads.\\n\\n* xref:#id334bfb12-8cbe-460e-8698-fc4994e61b69[Identify Cloud Resources by Tags]\\n* xref:#idd0ab9614-5daa-40b4-91cd-9bee6f70f2e6[Create a Resource List for Compute Resources]\\n* xref:#id814aa2ea-b823-4727-93ea-010ccf9edd44[Create a Resource List for Azure Resource Groups]\\n\\n\\n[.task]\\n[#id334bfb12-8cbe-460e-8698-fc4994e61b69]\\n=== Identify Cloud Resources by Tags\\n\\nA resource list for tags can reference tags that have been assigned to the resource as a part of a template deployment workflow or added manually. After you create the list to identify resources based on assigned tags, to use this list for scanning IaC templates using the Prisma Cloud plugins, you need to attach the resource list to a Prisma Cloud role and to an alert rule for build-time checks.\\n\\n[.procedure]\\n. Select *Settings > Resource Lists*.\\n\\n. *Add Resource List > Tag*.\\n\\n. Enter a *Resource List Name*.\\n+\\nYou can optionally enter a description.'"
      ]
     },
     "execution_count": 9,
     "metadata": {},
     "output_type": "execute_result"
    }
   ],
   "source": [
    "new_docs[0].page_content"
   ]
  },
  {
   "cell_type": "code",
   "execution_count": null,
   "metadata": {},
   "outputs": [],
   "source": []
  }
 ],
 "metadata": {
  "kernelspec": {
   "display_name": "Python 3",
   "language": "python",
   "name": "python3"
  },
  "language_info": {
   "codemirror_mode": {
    "name": "ipython",
    "version": 3
   },
   "file_extension": ".py",
   "mimetype": "text/x-python",
   "name": "python",
   "nbconvert_exporter": "python",
   "pygments_lexer": "ipython3",
   "version": "3.11.4"
  }
 },
 "nbformat": 4,
 "nbformat_minor": 2
}
